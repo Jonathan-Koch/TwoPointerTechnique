{
 "cells": [
  {
   "cell_type": "markdown",
   "id": "2964854e-f377-4eaf-b0ee-c765fcbec06b",
   "metadata": {},
   "source": [
    "# Two Pointer Technique"
   ]
  },
  {
   "cell_type": "markdown",
   "id": "4b04c51a-6791-425e-87b3-b96ab962c89e",
   "metadata": {},
   "source": [
    "These kinds of problems usually involve two pointers.\n",
    "\n",
    "**1. One slow-runner**\n",
    "**2. One fast-runner**\n"
   ]
  },
  {
   "cell_type": "markdown",
   "id": "dfa3efb8-9d75-44fb-9aca-153a2d5a6808",
   "metadata": {},
   "source": [
    "A classic example is to remove duplicates from a sorted array.\n",
    "\n",
    "There is another variation to that."
   ]
  },
  {
   "cell_type": "markdown",
   "id": "eff216f9-6045-4ab3-99ee-3b97c63fdd9c",
   "metadata": {},
   "source": [
    "**One pointer starts at the beginning while the other pointer starts at the end.**"
   ]
  },
  {
   "cell_type": "markdown",
   "id": "70da1537-5016-4021-8ef7-c4ca1951c7de",
   "metadata": {},
   "source": [
    "They move towards each other until they both meet. "
   ]
  },
  {
   "cell_type": "markdown",
   "id": "a1729b3c-64d5-4e7a-b8d0-aadb483f27a2",
   "metadata": {},
   "source": [
    "Reverse the characters in a string :\n",
    "\n",
    "First, lets assume that we already have the **swap** function defined below:"
   ]
  },
  {
   "cell_type": "code",
   "execution_count": 8,
   "id": "779bee0a-48ae-441f-8d81-3a3876f9abb4",
   "metadata": {},
   "outputs": [],
   "source": [
    "def swap(str, i, j):\n",
    "    str[i], str[j] = str[j], str[i]"
   ]
  },
  {
   "cell_type": "markdown",
   "id": "3ba215d6-5649-4487-b7f8-377e5a79a4ae",
   "metadata": {},
   "source": [
    "The idea is to swop the first character with the end, advance to the next character and swapping repeatedly until it reaches the middle position. We calculate the middel position as (n/2). You should verify that both the middle position works for bother odd and even size of array."
   ]
  },
  {
   "cell_type": "code",
   "execution_count": 9,
   "id": "7038efc5-70b6-4912-86ad-bf454478e752",
   "metadata": {},
   "outputs": [],
   "source": [
    "def reverse(str):\n",
    "    n = str.length\n",
    "    for i in range(n//2):\n",
    "        str[i], str[n -i - 1] = str[n -i - 1], str[i]\n",
    "        "
   ]
  },
  {
   "cell_type": "markdown",
   "id": "46f56129-b2a9-466a-9e18-3bbea8740692",
   "metadata": {},
   "source": [
    "Or we can also solve the problem using the two-pointer technique."
   ]
  },
  {
   "cell_type": "code",
   "execution_count": 10,
   "id": "07a19878-0f14-4fc6-b21c-015500629243",
   "metadata": {},
   "outputs": [],
   "source": [
    "def reverse(str):\n",
    "    i, j = 0, len(str) - 1\n",
    "    while i < j:\n",
    "        str[i], str[j] = str[j], str[i]\n",
    "        i += 1\n",
    "        j -= 1"
   ]
  },
  {
   "cell_type": "code",
   "execution_count": null,
   "id": "2856d0f4-df55-4fd9-bba6-87a8eb794598",
   "metadata": {},
   "outputs": [],
   "source": []
  }
 ],
 "metadata": {
  "kernelspec": {
   "display_name": "Python 3 (ipykernel)",
   "language": "python",
   "name": "python3"
  },
  "language_info": {
   "codemirror_mode": {
    "name": "ipython",
    "version": 3
   },
   "file_extension": ".py",
   "mimetype": "text/x-python",
   "name": "python",
   "nbconvert_exporter": "python",
   "pygments_lexer": "ipython3",
   "version": "3.9.12"
  }
 },
 "nbformat": 4,
 "nbformat_minor": 5
}
